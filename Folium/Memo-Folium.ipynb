{
 "cells": [
  {
   "cell_type": "markdown",
   "metadata": {},
   "source": [
    "# Memo Folium\n",
    "\n",
    "*l'essentiel des instructions*\n",
    "\n",
    "La documentation folium est consultable en ligne : https://python-visualization.github.io/folium/quickstart.html#Quickstart \n",
    "\n"
   ]
  },
  {
   "cell_type": "markdown",
   "metadata": {},
   "source": [
    "## 0. Importer le module folium"
   ]
  },
  {
   "cell_type": "code",
   "execution_count": null,
   "metadata": {
    "execution": {
     "iopub.execute_input": "2020-03-07T09:33:54.844Z",
     "iopub.status.busy": "2020-03-07T09:33:54.839Z",
     "iopub.status.idle": "2020-03-07T09:33:56.463Z",
     "shell.execute_reply": "2020-03-07T09:33:56.458Z"
    }
   },
   "outputs": [],
   "source": [
    "import folium"
   ]
  },
  {
   "cell_type": "code",
   "execution_count": null,
   "metadata": {},
   "outputs": [],
   "source": [
    "## 1. Créer une carte\n",
    "### 1.1 Pour démarrer \n",
    "**folium.Map**, location, zoom_start"
   ]
  },
  {
   "cell_type": "code",
   "execution_count": null,
   "metadata": {
    "scrolled": false
   },
   "outputs": [],
   "source": [
    "# définir les coordonnées du centre de la carte\n",
    "latitude = 49.179\n",
    "longitude = -0.382\n",
    "\n",
    "# créer la carte en indiquant les coordonnées du centre et un niveau de zoom, entre 1 (planisphère) et 18 (bâtiment)\n",
    "carte1 = folium.Map(location=[latitude, longitude], \n",
    "                    zoom_start = 12)\n",
    "# affichage de carte1\n",
    "carte1"
   ]
  },
  {
   "cell_type": "markdown",
   "metadata": {},
   "source": [
    "###  1.2 Pour explorer la carte : \n",
    "**outil d'affichage des coordonnées des lieux cliqués** : \n",
    "`folium.LatLngPopup()`"
   ]
  },
  {
   "cell_type": "code",
   "execution_count": null,
   "metadata": {
    "scrolled": false
   },
   "outputs": [],
   "source": [
    "#outil d'affichage des coordonnées des lieux cliqués\n",
    "carte1.add_child(folium.LatLngPopup())"
   ]
  },
  {
   "cell_type": "markdown",
   "metadata": {},
   "source": [
    "## 1.3 Enregistrer la carte au format html\n"
   ]
  },
  {
   "cell_type": "code",
   "execution_count": null,
   "metadata": {},
   "outputs": [],
   "source": [
    "carte1.save('ma_carte.html')\n",
    "#le fichier 'ma_carte.html' se trouve dans le même dossier que le notebook\n",
    "#On y accède par le menu File/Open...\n",
    "#Dans l'arborescence, soit ouvrir le ficher en cliquant dessus, soit le télécharger (Download)"
   ]
  },
  {
   "cell_type": "markdown",
   "metadata": {},
   "source": [
    "---\n",
    "## 2. Positionner un marqueur\n",
    "### 2.1 Positionner des icônes\n",
    "**folium.Marker**, location, popup, tooltip, icon"
   ]
  },
  {
   "cell_type": "code",
   "execution_count": null,
   "metadata": {
    "scrolled": false
   },
   "outputs": [],
   "source": [
    "#création d'une carte\n",
    "carte2a = folium.Map(location=[49.177, -0.37], zoom_start = 15)\n",
    "\n",
    "#ajout d'une icône par défaut\n",
    "#la valeur du popup s'affiche au clic sur l'icône\n",
    "folium.Marker(location=[49.1785, -0.3825], \n",
    "              popup = \"Rectorat de Caen\", \n",
    "             ).add_to(carte2a)\n",
    "\n",
    "#ajout d'une icône, choix de l'icône et de la couleur\n",
    "folium.Marker(location=[49.1747, -0.3636], \n",
    "              popup = \"La prairie\",\n",
    "              icon = folium.Icon(icon=\"tree\", prefix='fa', color='darkgreen')\n",
    "             ).add_to(carte2a)\n",
    "\n",
    "\n",
    "#ajout d'une icône, choix de l'icône et de la couleur\n",
    "# la valeur du tooltip s'affiche lors du survol de l'icône\n",
    "folium.Marker(location=[49.1785, -0.3725], \n",
    "              tooltip = \"Stade Hélitas\",\n",
    "              icon = folium.Icon(icon='futbol-o', prefix='fa', icon_color = 'black', color='orange') \n",
    "             ).add_to(carte2a)\n",
    "carte2a"
   ]
  },
  {
   "cell_type": "markdown",
   "metadata": {},
   "source": [
    "### 2.2 Quelques paramètres des icônes et marqueurs\n",
    "* La liste des icônes de marqueurs \"Font Awesome\" disponibles est la version 4.7, consultable [ici] (https://fontawesome.com/v4.7.0/icons/)\n",
    "(à utiliser avec  `prefix = 'fa'`)\n",
    "* La liste des couleurs de marqueurs est : \n",
    " 'red', 'blue', 'green', 'purple', 'orange', 'darkred', 'lightred', 'beige', 'darkblue', 'darkgreen', 'cadetblue',\n",
    " 'darkpurple', 'white', 'pink', 'lightblue', 'lightgreen', 'gray', 'black', 'lightgray'.\n",
    "* **pour en savoir plus** : exécuter les instructions : `help(folium.Icon)` ou `help(folium.Marker)`\n"
   ]
  },
  {
   "cell_type": "markdown",
   "metadata": {},
   "source": [
    "### 2.3 Positionner des marqueurs circulaires\n",
    "**folium.Circle**, **folium.CircleMarker**, radius, color, fill, fill_color\n"
   ]
  },
  {
   "cell_type": "code",
   "execution_count": null,
   "metadata": {
    "scrolled": true
   },
   "outputs": [],
   "source": [
    "#création d'une carte\n",
    "carte2b = folium.Map(location=[49.188, -0.367], zoom_start = 10)\n",
    "\n",
    "# cercle de rayon fixe en mètres : désigne la même zone sur la carte, quel que soit le niveau de zoom \n",
    "folium.Circle(location=[49.1866, -0.363],\n",
    "              radius = 160,\n",
    "              tooltip = 'Château de Caen',\n",
    "              color = 'red',\n",
    "              fill = True,\n",
    "              fill_color = 'darkred'\n",
    "             ).add_to(carte2b)\n",
    "\n",
    "# cercle de rayon fixe en pixels : la taille du cercle à l'écran est la même, quel que soit le niveau de zoom\n",
    "folium.CircleMarker(location=[49.1812, -0.3727],\n",
    "                    radius = 20,\n",
    "                    tooltip = 'Caen',\n",
    "                    color = 'blue',\n",
    "                    fill = True,\n",
    "                   ).add_to(carte2b)\n",
    "carte2b"
   ]
  },
  {
   "cell_type": "markdown",
   "metadata": {
    "nteract": {
     "transient": {
      "deleting": false
     }
    }
   },
   "source": [
    "### 2.4 Positionner des marqueurs de forme polygonale\n",
    "**folium.RegularPolygonMarker**"
   ]
  },
  {
   "cell_type": "code",
   "execution_count": null,
   "metadata": {
    "execution": {
     "iopub.execute_input": "2020-03-07T10:07:19.636Z",
     "iopub.status.busy": "2020-03-07T10:07:19.632Z",
     "iopub.status.idle": "2020-03-07T10:07:19.647Z",
     "shell.execute_reply": "2020-03-07T10:07:19.659Z"
    },
    "jupyter": {
     "outputs_hidden": false,
     "source_hidden": false
    },
    "nteract": {
     "transient": {
      "deleting": false
     }
    }
   },
   "outputs": [],
   "source": [
    "#création d'une carte\n",
    "carte2c = folium.Map(location=[49.3, 0.2], zoom_start = 8)\n",
    "\n",
    "# \n",
    "folium.RegularPolygonMarker(location=[49.4433, 1.1001],\n",
    "                           number_of_sides = 6,\n",
    "                           radius = 12,\n",
    "                           tooltip = 'Rouen',\n",
    "                           color = 'red',\n",
    "                           fill_color='red',\n",
    "                           fill_opacity = 0.4\n",
    "                           ).add_to(carte2c)\n",
    "\n",
    "# \n",
    "folium.RegularPolygonMarker(location=[49.1812, -0.3727],\n",
    "                           radius = 15,\n",
    "                           number_of_sides = 4,\n",
    "                           rotation = 45,\n",
    "                           tooltip = 'Caen',\n",
    "                           color = 'blue',\n",
    "                           fill_opacity = 0.3,\n",
    "                           ).add_to(carte2c)\n",
    "carte2c"
   ]
  },
  {
   "cell_type": "markdown",
   "metadata": {},
   "source": [
    "### 2.5 Regrouper des marqueurs nombreux\n",
    "**folium.Marker**, **MarkerCluster**"
   ]
  },
  {
   "cell_type": "code",
   "execution_count": null,
   "metadata": {},
   "outputs": [],
   "source": [
    "from folium.plugins import MarkerCluster\n",
    "from random import random\n",
    "\n",
    "carte2c = folium.Map(location=[49.17, -0.35], zoom_start = 11)\n",
    "groupes = MarkerCluster().add_to(carte2c)\n",
    "for i in range(500): \n",
    "    #création aléatoire de 500 marqueurs \"proches\" pour simuler des données\n",
    "    folium.Marker(location = [49.12 + random()/10, -0.4 + random()/10]).add_to(groupes)\n",
    "carte2c"
   ]
  },
  {
   "cell_type": "markdown",
   "metadata": {},
   "source": [
    "---\n",
    "## 3. Tracer un itinéraire \n",
    "**folium.PolyLine**"
   ]
  },
  {
   "cell_type": "code",
   "execution_count": null,
   "metadata": {
    "execution": {
     "iopub.execute_input": "2020-03-07T10:17:40.410Z",
     "iopub.status.busy": "2020-03-07T10:17:40.406Z",
     "iopub.status.idle": "2020-03-07T10:17:40.421Z",
     "shell.execute_reply": "2020-03-07T10:17:40.434Z"
    },
    "scrolled": false
   },
   "outputs": [],
   "source": [
    "carte3 = folium.Map(location=[46.584985, 2.381642], zoom_start = 7)\n",
    "\n",
    "folium.Marker([48.116178, -1.639469], tooltip = \"Rennes\").add_to(carte3)\n",
    "folium.Marker([45.218181, 5.807142], tooltip = \"Grenoble\").add_to(carte3)\n",
    "\n",
    "#outil d'affichage des coordonnées des lieux cliqués\n",
    "carte3.add_child(folium.LatLngPopup())\n",
    "\n",
    "route = folium.PolyLine(\n",
    "        #liste des coordonnées des points à relier\n",
    "        locations = [[48.116178, -1.639469],\n",
    "         [47.471627, -0.548873],\n",
    "         [47.393767, 0.682236],\n",
    "         [45.763663, 4.832724],\n",
    "         [45.218181, 5.807142]],\n",
    "        #épaisseur du tracé en pixels (facultatif)\n",
    "        weight = 8\n",
    "        # autres paramètres facultatifs : color, opacity\n",
    ").add_to(carte3)\n",
    "\n",
    "#carte.save('maCarte.html')\n",
    "carte3"
   ]
  },
  {
   "cell_type": "markdown",
   "metadata": {
    "scrolled": true
   },
   "source": [
    "---\n",
    "## 4. Délimiter une zone polygonale"
   ]
  },
  {
   "cell_type": "code",
   "execution_count": null,
   "metadata": {
    "scrolled": false
   },
   "outputs": [],
   "source": [
    "carte4 = folium.Map(location=[47, 2.6], zoom_start = 6)\n",
    "\n",
    "#zone polygonale\n",
    "hexagone = folium.Polygon(\n",
    "    #liste des coordonnées des sommets\n",
    "    [[51.0863,2.5323],\n",
    "     [48.5457, -4.7461],\n",
    "     [43.3611, -1.7743],\n",
    "     [42.4072, 3.1421],\n",
    "     [43.9137, 7.8223],\n",
    "     [48.9730, 8.2288]],\n",
    "     color = 'green', fill = True\n",
    "    ).add_to(carte4)\n",
    "\n",
    "carte4"
   ]
  },
  {
   "cell_type": "code",
   "execution_count": null,
   "metadata": {},
   "outputs": [],
   "source": []
  }
 ],
 "metadata": {
  "kernelspec": {
   "display_name": "Python 3",
   "language": "python",
   "name": "python3"
  },
  "language_info": {
   "codemirror_mode": {
    "name": "ipython",
    "version": 3
   },
   "file_extension": ".py",
   "mimetype": "text/x-python",
   "name": "python",
   "nbconvert_exporter": "python",
   "pygments_lexer": "ipython3",
   "version": "3.7.3"
  },
  "nteract": {
   "version": "0.22.0"
  }
 },
 "nbformat": 4,
 "nbformat_minor": 2
}
