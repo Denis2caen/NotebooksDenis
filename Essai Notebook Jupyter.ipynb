{
 "cells": [
  {
   "cell_type": "markdown",
   "metadata": {},
   "source": [
    "## Premier Notebook Jupyter"
   ]
  },
  {
   "cell_type": "markdown",
   "metadata": {},
   "source": [
    "Utilisation d'un **notebook Jupyter** pour faire de la programmation en langage **python**."
   ]
  },
  {
   "cell_type": "markdown",
   "metadata": {},
   "source": [
    "Pour exécuter le code présent dans les cellules précédées de crochets ([ ]), cliquer sur **Exécuter** (ou Run) dans le menu en haut, ou **Maj+Entrée**."
   ]
  },
  {
   "cell_type": "code",
   "execution_count": null,
   "metadata": {},
   "outputs": [],
   "source": [
    "\" exemple de code simple :\"\n",
    "2+3"
   ]
  },
  {
   "cell_type": "markdown",
   "metadata": {},
   "source": [
    "Quand une cellule de code a été exécutée, un chiffre apparait dans les crochets, à gauche de la cellule.\n",
    "\n",
    "_Note : quand le serveur est désactivé (au bout de 10 minutes d'inactivité pour les Notebook Binder en ligne), une étoile apparait; Il faut alors relancer le serveur Binder._"
   ]
  },
  {
   "cell_type": "markdown",
   "metadata": {},
   "source": [
    "Changer les valeurs ci-dessous puis exécuter le code plusieurs fois."
   ]
  },
  {
   "cell_type": "code",
   "execution_count": null,
   "metadata": {},
   "outputs": [],
   "source": [
    "A=2\n",
    "B=3\n",
    "A+B"
   ]
  },
  {
   "cell_type": "markdown",
   "metadata": {},
   "source": [
    "Le résultat du calcul s'affiche à chaque dernière exécution.\n",
    "\n",
    "Seule la dernière exécution apparaît."
   ]
  },
  {
   "cell_type": "code",
   "execution_count": null,
   "metadata": {},
   "outputs": [],
   "source": [
    "print (A+B)"
   ]
  },
  {
   "cell_type": "markdown",
   "metadata": {},
   "source": [
    "Quand on demande un affichage, les crochets n'apparaissent plus."
   ]
  },
  {
   "cell_type": "markdown",
   "metadata": {},
   "source": [
    "Vous pouvez transmettre ce notebook avec le résultats des cellules de code à votre profeseurs par le menu Fie/Download as/Custom (.html) ou /PDF via Latex (.pdf) si l'extension Latex a été installée."
   ]
  },
  {
   "cell_type": "markdown",
   "metadata": {},
   "source": [
    "Essayez maintenant d'exporter ce notebook dans un de ces deux formats."
   ]
  },
  {
   "cell_type": "code",
   "execution_count": null,
   "metadata": {},
   "outputs": [],
   "source": []
  }
 ],
 "metadata": {
  "kernelspec": {
   "display_name": "Python 3",
   "language": "python",
   "name": "python3"
  },
  "language_info": {
   "codemirror_mode": {
    "name": "ipython",
    "version": 3
   },
   "file_extension": ".py",
   "mimetype": "text/x-python",
   "name": "python",
   "nbconvert_exporter": "python",
   "pygments_lexer": "ipython3",
   "version": "3.7.3"
  }
 },
 "nbformat": 4,
 "nbformat_minor": 2
}
